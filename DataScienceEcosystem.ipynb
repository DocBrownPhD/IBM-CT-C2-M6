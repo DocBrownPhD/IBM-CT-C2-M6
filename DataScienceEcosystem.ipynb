{
 "cells": [
  {
   "cell_type": "markdown",
   "id": "8c027975-095f-4940-89ca-92370254efeb",
   "metadata": {},
   "source": [
    "# Data Science Tools and Ecosystems"
   ]
  },
  {
   "cell_type": "markdown",
   "id": "8bcc6b08-c2f9-44bb-a300-993497a58e31",
   "metadata": {},
   "source": [
    "In this notebook, Data Science Tools and Ecosystems are summarized."
   ]
  },
  {
   "cell_type": "markdown",
   "id": "d183d592-b4ee-4319-b417-7e2dae0495cd",
   "metadata": {},
   "source": [
    "**Objectives:**\n",
    "\n",
    "- List popular languages for Data Science\n",
    "- List popular libraries in data science\n",
    "- List popular tools in Data Science"
   ]
  },
  {
   "cell_type": "markdown",
   "id": "f1ff0f85-2741-4051-9394-c332adaf99cf",
   "metadata": {},
   "source": [
    "Some of the polular languages that Data Scientists use are:\n",
    "\n",
    "1. Python\n",
    "2. R\n",
    "3. SQL\n",
    "4. JAVA\n",
    "5. Scala\n",
    "6. Julia\n",
    "7. SAS\n",
    "8. MATLAB\n",
    "9. JS\n"
   ]
  },
  {
   "cell_type": "markdown",
   "id": "ddc96ece-8778-408a-a548-576f340a3ded",
   "metadata": {},
   "source": [
    "Some of the commonly used libraries used by Data Scientists inlcude:\n",
    "\n",
    "1. pandas\n",
    "2. NumPy\n",
    "3. Matplotlib\n",
    "4. Scikit-learn\n",
    "5. ggplot2\n",
    "6. caret\n",
    "7. stringr\n",
    "8. shiny\n"
   ]
  },
  {
   "cell_type": "markdown",
   "id": "1d51d832-2ebb-4149-8102-3614fefbdaf5",
   "metadata": {},
   "source": [
    "| Data Science Tools |\n",
    "|--------------------|\n",
    "| JupyterLab |\n",
    "| Visual Studio |\n",
    "| Git |"
   ]
  },
  {
   "cell_type": "markdown",
   "id": "2d3cc618-0f7d-4a15-add2-c8782e20a390",
   "metadata": {},
   "source": [
    "### Below are a few examples of Evaluating arithmetic expressions in Python"
   ]
  },
  {
   "cell_type": "code",
   "execution_count": 3,
   "id": "b4e01456-95e6-4a87-9e6d-390e664ffd40",
   "metadata": {},
   "outputs": [
    {
     "data": {
      "text/plain": [
       "17"
      ]
     },
     "execution_count": 3,
     "metadata": {},
     "output_type": "execute_result"
    }
   ],
   "source": [
    "# This is a simple arithmetic expression to multiply then add integers.\n",
    "\n",
    "(3*4)+5"
   ]
  },
  {
   "cell_type": "code",
   "execution_count": 4,
   "id": "f30603da-c472-40ed-8d7d-3ee923048047",
   "metadata": {},
   "outputs": [
    {
     "data": {
      "text/plain": [
       "3.3333333333333335"
      ]
     },
     "execution_count": 4,
     "metadata": {},
     "output_type": "execute_result"
    }
   ],
   "source": [
    "# This will convert 200 minutes to hours by \"dividing\" (lab misspelled as \"diving\") by 60\n",
    "\n",
    "200/60"
   ]
  },
  {
   "cell_type": "markdown",
   "id": "eadd17d1-c8cb-46d6-86d2-25205aae508e",
   "metadata": {},
   "source": [
    "## Author\n",
    "\n",
    "Dr. Addam Brown"
   ]
  }
 ],
 "metadata": {
  "kernelspec": {
   "display_name": "Python 3 (ipykernel)",
   "language": "python",
   "name": "python3"
  },
  "language_info": {
   "codemirror_mode": {
    "name": "ipython",
    "version": 3
   },
   "file_extension": ".py",
   "mimetype": "text/x-python",
   "name": "python",
   "nbconvert_exporter": "python",
   "pygments_lexer": "ipython3",
   "version": "3.11.9"
  }
 },
 "nbformat": 4,
 "nbformat_minor": 5
}
